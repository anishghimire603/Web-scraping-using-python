{
 "cells": [
  {
   "cell_type": "code",
   "execution_count": 2,
   "metadata": {},
   "outputs": [],
   "source": [
    "import requests\n",
    "from bs4 import BeautifulSoup"
   ]
  },
  {
   "cell_type": "code",
   "execution_count": 19,
   "metadata": {},
   "outputs": [],
   "source": [
    "url = 'https://ganish.com.np/'\n",
    "response = requests.get(url)"
   ]
  },
  {
   "cell_type": "code",
   "execution_count": 21,
   "metadata": {},
   "outputs": [
    {
     "data": {
      "text/plain": [
       "<Response [200]>"
      ]
     },
     "execution_count": 21,
     "metadata": {},
     "output_type": "execute_result"
    }
   ],
   "source": [
    "response"
   ]
  },
  {
   "cell_type": "code",
   "execution_count": 22,
   "metadata": {},
   "outputs": [],
   "source": [
    "soup = BeautifulSoup(response.text, 'html.parser')"
   ]
  },
  {
   "cell_type": "code",
   "execution_count": 23,
   "metadata": {},
   "outputs": [
    {
     "data": {
      "text/plain": [
       "<html lang=\"en\">\n",
       "<head>\n",
       "<!--Creating meta elements-->\n",
       "<meta content=\"Portfolio website of anish ghimire\" name=\"description\"/>\n",
       "<meta content=\"aghimire603, ghimire, anish, awarself, bsc.csit, patan, patan multiple campus, pmc, kaicho,\" name=\"keywords\"/>\n",
       "<meta content=\"anish ghimire\" name=\"author\"/>\n",
       "<title>My portfolio</title>\n",
       "<link href=\"styles.css\" rel=\"stylesheet\"/>\n",
       "<link href=\"favicon.ico\" rel=\"icon\"/>\n",
       "<link href=\"https://fonts.googleapis.com/css?family=Merriweather|Montserrat|Sacramento\" rel=\"stylesheet\"/>\n",
       "</head>\n",
       "<body>\n",
       "<div class=\"header-section\">\n",
       "<div class=\"top-container\">\n",
       "<img alt=\"cloud image\" class=\"top-cloud\" src=\"img/profile-pic.png\" style=\"display: none;\"/>\n",
       "<img alt=\"cloud image\" class=\"top-cloud\" src=\"img/cloud.png\"/>\n",
       "<h1>I'm Anish Ghimire.</h1>\n",
       "<p>a <span class=\"pro\">pro</span>grammer.</p>\n",
       "<img alt=\"cloud image\" class=\"bottom-cloud\" src=\"img/cloud.png\"/>\n",
       "<img alt=\"header image\" class=\"header-image\" src=\"img/header-image.png\"/>\n",
       "</div>\n",
       "</div>\n",
       "<div class=\"middle-container\">\n",
       "<div class=\"profile\">\n",
       "<img alt=\"Profile Picture\" class=\"profile-picture\" src=\"img/profile-pic.png\"/>\n",
       "<h2>Hello.</h2>\n",
       "<p>\n",
       "            I am a Designer, Web Developer and AI enthusiast who enjoys front end dev and building appealing brands.\n",
       "            I'm also super into video games &amp; space.\n",
       "          </p>\n",
       "</div>\n",
       "<hr/>\n",
       "<div class=\"skills\">\n",
       "<h2>My Skills.</h2>\n",
       "<div class=\"skill-row\">\n",
       "<img alt=\"\" class=\"portfolio-img\" src=\"img/computer.png\"/>\n",
       "<h3 class=\"blurb\">HTML, CSS, JAVASCRIPT,DATA SCIENCE &amp;AMP COMPETITIVE CODING</h3>\n",
       "<p>\n",
       "              If you're looking for someone who can put a fresh looking spin on a website with front end languages, I'm your go to person.\n",
       "              Also if you are looking for data scientist for your company or organization then here I am.\n",
       "            </p>\n",
       "</div>\n",
       "<div class=\"skill-row\">\n",
       "<img alt=\"\" class=\"girl\" src=\"img/cyberpunk-girl.jpg\"/>\n",
       "<h3 class=\"blurb\">DESIGN &amp; BRANDING</h3>\n",
       "<p>\n",
       "              I'm a self taught Developer and data scientist who enjoys color palettes somemore back-end, breathing new life \n",
       "              into a webdevelopment and branding.\n",
       "            </p>\n",
       "</div>\n",
       "</div>\n",
       "<hr/>\n",
       "<div class=\"contact-me\">\n",
       "<h2>Get In Touch</h2>\n",
       "<h3>Shoot me an email!</h3>\n",
       "<p>If not, just know I'm probably drinking tea, reading about space or playing video games somewhere.</p>\n",
       "<a class=\"btn\" href=\"mailto:aghimire603@gmail.com\">CONTACT ME</a>\n",
       "</div>\n",
       "</div>\n",
       "<div class=\"bottom-container\">\n",
       "<div class=\"links\">\n",
       "<a class=\"footer-link\" href=\"https://www.linkedin.com/in/anish-ghimire-4b872715a/\">LinkedIn</a>\n",
       "<a class=\"footer-link\" href=\"https://twitter.com/anishghimire82/\">Twitter</a>\n",
       "<a class=\"footer-link\" href=\"http://ganish.com.np/\">Website</a>\n",
       "</div>\n",
       "<p>© 2020 Anish Ghimire. Design, Development and Data Scientist</p>\n",
       "</div>\n",
       "</body>\n",
       "</html>"
      ]
     },
     "execution_count": 23,
     "metadata": {},
     "output_type": "execute_result"
    }
   ],
   "source": [
    "soup"
   ]
  },
  {
   "cell_type": "code",
   "execution_count": 29,
   "metadata": {},
   "outputs": [],
   "source": [
    "Paragraph = soup.p.text"
   ]
  },
  {
   "cell_type": "code",
   "execution_count": 31,
   "metadata": {},
   "outputs": [
    {
     "data": {
      "text/plain": [
       "'a programmer.'"
      ]
     },
     "execution_count": 31,
     "metadata": {},
     "output_type": "execute_result"
    }
   ],
   "source": [
    "Paragraph"
   ]
  },
  {
   "cell_type": "code",
   "execution_count": 32,
   "metadata": {},
   "outputs": [
    {
     "name": "stdout",
     "output_type": "stream",
     "text": [
      "<class 'str'>\n"
     ]
    }
   ],
   "source": [
    "print(type(Paragraph))"
   ]
  },
  {
   "cell_type": "code",
   "execution_count": 33,
   "metadata": {},
   "outputs": [],
   "source": [
    "updated_paragraph = Paragraph + 'Anish'"
   ]
  },
  {
   "cell_type": "code",
   "execution_count": 34,
   "metadata": {},
   "outputs": [
    {
     "data": {
      "text/plain": [
       "'a programmer.Anish'"
      ]
     },
     "execution_count": 34,
     "metadata": {},
     "output_type": "execute_result"
    }
   ],
   "source": [
    "updated_paragraph"
   ]
  },
  {
   "cell_type": "code",
   "execution_count": 35,
   "metadata": {},
   "outputs": [
    {
     "data": {
      "text/plain": [
       "[<p>a <span class=\"pro\">pro</span>grammer.</p>,\n",
       " <p>\n",
       "             I am a Designer, Web Developer and AI enthusiast who enjoys front end dev and building appealing brands.\n",
       "             I'm also super into video games &amp; space.\n",
       "           </p>,\n",
       " <p>\n",
       "               If you're looking for someone who can put a fresh looking spin on a website with front end languages, I'm your go to person.\n",
       "               Also if you are looking for data scientist for your company or organization then here I am.\n",
       "             </p>,\n",
       " <p>\n",
       "               I'm a self taught Developer and data scientist who enjoys color palettes somemore back-end, breathing new life \n",
       "               into a webdevelopment and branding.\n",
       "             </p>,\n",
       " <p>If not, just know I'm probably drinking tea, reading about space or playing video games somewhere.</p>,\n",
       " <p>© 2020 Anish Ghimire. Design, Development and Data Scientist</p>]"
      ]
     },
     "execution_count": 35,
     "metadata": {},
     "output_type": "execute_result"
    }
   ],
   "source": [
    "soup.findAll('p')"
   ]
  },
  {
   "cell_type": "code",
   "execution_count": 40,
   "metadata": {},
   "outputs": [],
   "source": [
    "Allparagraph = soup.findAll('p')"
   ]
  },
  {
   "cell_type": "code",
   "execution_count": 41,
   "metadata": {},
   "outputs": [
    {
     "data": {
      "text/plain": [
       "[<p>a <span class=\"pro\">pro</span>grammer.</p>,\n",
       " <p>\n",
       "             I am a Designer, Web Developer and AI enthusiast who enjoys front end dev and building appealing brands.\n",
       "             I'm also super into video games &amp; space.\n",
       "           </p>,\n",
       " <p>\n",
       "               If you're looking for someone who can put a fresh looking spin on a website with front end languages, I'm your go to person.\n",
       "               Also if you are looking for data scientist for your company or organization then here I am.\n",
       "             </p>,\n",
       " <p>\n",
       "               I'm a self taught Developer and data scientist who enjoys color palettes somemore back-end, breathing new life \n",
       "               into a webdevelopment and branding.\n",
       "             </p>,\n",
       " <p>If not, just know I'm probably drinking tea, reading about space or playing video games somewhere.</p>,\n",
       " <p>© 2020 Anish Ghimire. Design, Development and Data Scientist</p>]"
      ]
     },
     "execution_count": 41,
     "metadata": {},
     "output_type": "execute_result"
    }
   ],
   "source": [
    "Allparagraph"
   ]
  },
  {
   "cell_type": "code",
   "execution_count": 47,
   "metadata": {},
   "outputs": [
    {
     "name": "stdout",
     "output_type": "stream",
     "text": [
      "a programmer.\n",
      "\r\n",
      "            I am a Designer, Web Developer and AI enthusiast who enjoys front end dev and building appealing brands.\r\n",
      "            I'm also super into video games & space.\r\n",
      "          \n",
      "\r\n",
      "              If you're looking for someone who can put a fresh looking spin on a website with front end languages, I'm your go to person.\r\n",
      "              Also if you are looking for data scientist for your company or organization then here I am.\r\n",
      "            \n",
      "\r\n",
      "              I'm a self taught Developer and data scientist who enjoys color palettes somemore back-end, breathing new life \r\n",
      "              into a webdevelopment and branding.\r\n",
      "            \n",
      "If not, just know I'm probably drinking tea, reading about space or playing video games somewhere.\n",
      "© 2020 Anish Ghimire. Design, Development and Data Scientist\n"
     ]
    }
   ],
   "source": [
    "for p in Allparagraph:\n",
    "    print(p.text)"
   ]
  }
 ],
 "metadata": {
  "kernelspec": {
   "display_name": "Python 3",
   "language": "python",
   "name": "python3"
  },
  "language_info": {
   "codemirror_mode": {
    "name": "ipython",
    "version": 3
   },
   "file_extension": ".py",
   "mimetype": "text/x-python",
   "name": "python",
   "nbconvert_exporter": "python",
   "pygments_lexer": "ipython3",
   "version": "3.7.6"
  }
 },
 "nbformat": 4,
 "nbformat_minor": 2
}
